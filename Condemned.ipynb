{
 "cells": [
  {
   "cell_type": "markdown",
   "metadata": {},
   "source": [
    "# Condemned Properties"
   ]
  },
  {
   "cell_type": "markdown",
   "metadata": {},
   "source": [
    "##### In this assignment, we were asked to find a dataset that we can use to find the safest neighborhood in Pittsburgh. I chose to look at the occurances of Condemned Properties through out the city. I believe that if there are excesive Condemned properties in an area, it could make a neighborhood less safe and lower in value. Condemned properties can occur for many reasons including deteriorated structures, and other safety hazards. Also, these properties can attract squatters who dont care for others and can be a danger to those living around.\n",
    "\n",
    "![what happened](https://media.giphy.com/media/v1.Y2lkPTc5MGI3NjExc3A1b3NzdXNtMXplMHk5MTJrODMzdXJwOW80eXRoZDk2YWF1ZHNzaiZlcD12MV9pbnRlcm5hbF9naWZfYnlfaWQmY3Q9Zw/UVmmHk6QlUPaU/giphy.gif)"
   ]
  },
  {
   "cell_type": "code",
   "execution_count": 1,
   "metadata": {},
   "outputs": [],
   "source": [
    "import pandas as pd\n",
    "import matplotlib.pyplot as plt #for graph"
   ]
  },
  {
   "cell_type": "markdown",
   "metadata": {},
   "source": [
    "##### We need to import pandas to collect our data from the CSV. \n",
    "##### Also we import matplotlib to be able to represent our data in a graph."
   ]
  },
  {
   "cell_type": "code",
   "execution_count": 2,
   "metadata": {},
   "outputs": [],
   "source": [
    "condemned = pd.read_csv(\"Condemned_Houses.csv\", sep = \",\")\n"
   ]
  },
  {
   "cell_type": "markdown",
   "metadata": {},
   "source": [
    "##### After reading the CSV, we print he head to make sure that it is read correctly."
   ]
  },
  {
   "cell_type": "code",
   "execution_count": 3,
   "metadata": {},
   "outputs": [
    {
     "data": {
      "text/html": [
       "<div>\n",
       "<style scoped>\n",
       "    .dataframe tbody tr th:only-of-type {\n",
       "        vertical-align: middle;\n",
       "    }\n",
       "\n",
       "    .dataframe tbody tr th {\n",
       "        vertical-align: top;\n",
       "    }\n",
       "\n",
       "    .dataframe thead th {\n",
       "        text-align: right;\n",
       "    }\n",
       "</style>\n",
       "<table border=\"1\" class=\"dataframe\">\n",
       "  <thead>\n",
       "    <tr style=\"text-align: right;\">\n",
       "      <th></th>\n",
       "      <th>_id</th>\n",
       "      <th>parcel_id</th>\n",
       "      <th>address</th>\n",
       "      <th>owner</th>\n",
       "      <th>property_type</th>\n",
       "      <th>date</th>\n",
       "      <th>latest_inspection_result</th>\n",
       "      <th>latest_inspection_score</th>\n",
       "      <th>inspection_status</th>\n",
       "    </tr>\n",
       "  </thead>\n",
       "  <tbody>\n",
       "    <tr>\n",
       "      <th>0</th>\n",
       "      <td>1286147</td>\n",
       "      <td>0081E00049000000</td>\n",
       "      <td>No primary address specified</td>\n",
       "      <td>SAYER REAL ESTATE LLC</td>\n",
       "      <td>Condemned Property</td>\n",
       "      <td>2021-01-22</td>\n",
       "      <td>Fail</td>\n",
       "      <td>16.0</td>\n",
       "      <td>Inactive</td>\n",
       "    </tr>\n",
       "    <tr>\n",
       "      <th>1</th>\n",
       "      <td>1286148</td>\n",
       "      <td>0023C00208000000</td>\n",
       "      <td>11 LANARK ST, Pittsburgh, PA 15214</td>\n",
       "      <td>CITY OF BRIDGES CLT</td>\n",
       "      <td>Condemned Property</td>\n",
       "      <td>2021-04-07</td>\n",
       "      <td>Fail</td>\n",
       "      <td>26.0</td>\n",
       "      <td>Inactive</td>\n",
       "    </tr>\n",
       "    <tr>\n",
       "      <th>2</th>\n",
       "      <td>1286149</td>\n",
       "      <td>0011J00145000000</td>\n",
       "      <td>211 GIST ST, Pittsburgh, 15219</td>\n",
       "      <td>ECKENRODE ROBERT C</td>\n",
       "      <td>Condemned Property</td>\n",
       "      <td>2022-04-07</td>\n",
       "      <td>Fail</td>\n",
       "      <td>8.0</td>\n",
       "      <td>Inactive</td>\n",
       "    </tr>\n",
       "    <tr>\n",
       "      <th>3</th>\n",
       "      <td>1286150</td>\n",
       "      <td>0174L00014000000</td>\n",
       "      <td>No primary address specified</td>\n",
       "      <td>BATTLE RAYNA</td>\n",
       "      <td>Condemned Property</td>\n",
       "      <td>2020-05-19</td>\n",
       "      <td>Fail</td>\n",
       "      <td>15.0</td>\n",
       "      <td>Inactive</td>\n",
       "    </tr>\n",
       "    <tr>\n",
       "      <th>4</th>\n",
       "      <td>1286151</td>\n",
       "      <td>0081A00132000000</td>\n",
       "      <td>No primary address specified</td>\n",
       "      <td>MCCOY MARK JOEL &amp; NICOLE HELENA (W)</td>\n",
       "      <td>Condemned Property</td>\n",
       "      <td>2020-05-19</td>\n",
       "      <td>Fail</td>\n",
       "      <td>9.0</td>\n",
       "      <td>Inactive</td>\n",
       "    </tr>\n",
       "  </tbody>\n",
       "</table>\n",
       "</div>"
      ],
      "text/plain": [
       "       _id         parcel_id                             address  \\\n",
       "0  1286147  0081E00049000000        No primary address specified   \n",
       "1  1286148  0023C00208000000  11 LANARK ST, Pittsburgh, PA 15214   \n",
       "2  1286149  0011J00145000000      211 GIST ST, Pittsburgh, 15219   \n",
       "3  1286150  0174L00014000000        No primary address specified   \n",
       "4  1286151  0081A00132000000        No primary address specified   \n",
       "\n",
       "                                 owner       property_type        date  \\\n",
       "0                SAYER REAL ESTATE LLC  Condemned Property  2021-01-22   \n",
       "1                  CITY OF BRIDGES CLT  Condemned Property  2021-04-07   \n",
       "2                   ECKENRODE ROBERT C  Condemned Property  2022-04-07   \n",
       "3                         BATTLE RAYNA  Condemned Property  2020-05-19   \n",
       "4  MCCOY MARK JOEL & NICOLE HELENA (W)  Condemned Property  2020-05-19   \n",
       "\n",
       "  latest_inspection_result  latest_inspection_score inspection_status  \n",
       "0                     Fail                     16.0          Inactive  \n",
       "1                     Fail                     26.0          Inactive  \n",
       "2                     Fail                      8.0          Inactive  \n",
       "3                     Fail                     15.0          Inactive  \n",
       "4                     Fail                      9.0          Inactive  "
      ]
     },
     "execution_count": 3,
     "metadata": {},
     "output_type": "execute_result"
    }
   ],
   "source": [
    "condemned.head()"
   ]
  },
  {
   "cell_type": "markdown",
   "metadata": {},
   "source": [
    "##### Looking throught the data set, the relevant data I want to extract is if the inspection is a Pass or Fail, and the Address of the property.\n",
    "\n",
    "##### To extract this data, I created a loop that interates throught all the rows of the condemned dataset and for each row I get the Address string and the latest_inspection_result string\n",
    "\n",
    "##### If the address is not \"No primary address\" and also not null, we add the address to the 'occur' dictionary. If the address is already a key in the dictionary, we increase the value to have a count of occurances we come across. \n",
    "\n",
    "##### Since I want a dictionary that is sorted by the number of occurances of an address, we have the 'sortedDic' dictionary hold a sorted version of the 'occur' dictionary. This sorted dictionary is then printed."
   ]
  },
  {
   "cell_type": "code",
   "execution_count": 4,
   "metadata": {},
   "outputs": [
    {
     "name": "stdout",
     "output_type": "stream",
     "text": [
      "15232 1\n",
      "15106 1\n",
      "15120 2\n",
      "15227 3\n",
      "15234 4\n",
      "15222 6\n",
      "15235 11\n",
      "15226 13\n",
      "15217 19\n",
      "15205 26\n",
      "15213 28\n",
      "15216 29\n",
      "15211 31\n",
      "15201 32\n",
      "15203 48\n",
      "15221 49\n",
      "15233 51\n",
      "15224 56\n",
      "15220 62\n",
      "15204 98\n",
      "15207 134\n",
      "15214 141\n",
      "15206 162\n",
      "15208 195\n",
      "15219 234\n",
      "15212 267\n",
      "15210 387\n"
     ]
    }
   ],
   "source": [
    "occur = {}\n",
    "sortedDic= {}\n",
    "\n",
    "for index, row in condemned.iterrows():\n",
    "    adress = row[\"address\"]\n",
    "    status = row[\"latest_inspection_result\"]\n",
    "    \n",
    "    if (adress != \"No primary address specified\") and not pd.isna(adress):\n",
    "        if status != \"Pass\" and not pd.isna(status):\n",
    "            road = adress.split()\n",
    "            road = road[len(road) - 1]\n",
    "            if road not in occur:\n",
    "                occur[road] = 1\n",
    "            else:\n",
    "                occur[road] += 1\n",
    "                \n",
    "sortedDic = dict(sorted(occur.items(), key=lambda item: item[1], reverse = False))\n",
    "        \n",
    "maxCondemned = 0\n",
    "for hood in sortedDic:\n",
    "    print(hood ,sortedDic[hood])\n",
    "    if sortedDic[hood] > maxCondemned:\n",
    "        maxCondemned = sortedDic[hood]\n",
    "        \n",
    "#print(\"MAXIMUM = \" , maxCondemned)\n",
    "    \n"
   ]
  },
  {
   "cell_type": "markdown",
   "metadata": {},
   "source": [
    "##### Since the closest thing to a neighborhood in my dataset is the zip code for each address, I need to map the zip codes onto the neighborhoods they are in. Using a pittsburgh neighborhood map (https://gis.pittsburghpa.gov/pghneighborhoods/) I manually mapped the zip code to the neighborhood it cooresponds to."
   ]
  },
  {
   "cell_type": "code",
   "execution_count": 5,
   "metadata": {},
   "outputs": [],
   "source": [
    "neighborhoods = {15210  : 'Arlington',\n",
    "                 15212  : 'Brighton Heights',\n",
    "                 15219  : 'Crawford-Roberts',\n",
    "                 15208  : 'Homewood South',\n",
    "                 15206  : 'East Liberty',\n",
    "                 15214  : 'Perry North',\n",
    "                 15207  : 'Glen Hazel',\n",
    "                 15204  : 'Sheraden',    \n",
    "                 15220  : 'Green Tree',\n",
    "                 15224  : 'Bloomfield',\n",
    "                 15233  : 'Manchester',\n",
    "                 15221  : 'Wilkinsburg',\n",
    "                 15203  : 'South Side Flats',\n",
    "                 15201  : 'Central Lawrenceville',\n",
    "                 15211  : 'Mount Washington',\n",
    "                 15216  : 'Mount Lebanon',\n",
    "                 15213  : 'North Oakland',\n",
    "                 15205  : 'Crafton',\n",
    "                 15217  : 'Squirrel Hill South',\n",
    "                 15226  : 'Brookline',\n",
    "                 15235  : 'Penn Hills',\n",
    "                 15222  : 'Central Business District',\n",
    "                 15234  : 'Castle Shannon',\n",
    "                 15227  : 'Brentwood',\n",
    "                 15120  : 'Hays',\n",
    "                 15106  : 'East Carnegie',\n",
    "                 15232  : 'Shadyside'\n",
    "                }"
   ]
  },
  {
   "cell_type": "markdown",
   "metadata": {},
   "source": [
    "##### Since there is a wide gap between the lowest and the highest occurances of condemned properties between the neighborhoods, I will assign each neighborhood a score from 0 to 10. 10 having the most condemned properties and 0 being the least."
   ]
  },
  {
   "cell_type": "code",
   "execution_count": 6,
   "metadata": {},
   "outputs": [
    {
     "name": "stdout",
     "output_type": "stream",
     "text": [
      "Shadyside 0.02583979328165375\n",
      "East Carnegie 0.02583979328165375\n",
      "Hays 0.0516795865633075\n",
      "Brentwood 0.07751937984496124\n",
      "Castle Shannon 0.103359173126615\n",
      "Central Business District 0.15503875968992248\n",
      "Penn Hills 0.2842377260981912\n",
      "Brookline 0.3359173126614987\n",
      "Squirrel Hill South 0.4909560723514212\n",
      "Crafton 0.6718346253229974\n",
      "North Oakland 0.7235142118863048\n",
      "Mount Lebanon 0.7493540051679587\n",
      "Mount Washington 0.8010335917312661\n",
      "Central Lawrenceville 0.82687338501292\n",
      "South Side Flats 1.2403100775193798\n",
      "Wilkinsburg 1.2661498708010335\n",
      "Manchester 1.3178294573643412\n",
      "Bloomfield 1.4470284237726097\n",
      "Green Tree 1.6020671834625322\n",
      "Sheraden 2.532299741602067\n",
      "Glen Hazel 3.4625322997416017\n",
      "Perry North 3.643410852713178\n",
      "East Liberty 4.186046511627907\n",
      "Homewood South 5.038759689922481\n",
      "Crawford-Roberts 6.046511627906977\n",
      "Brighton Heights 6.89922480620155\n",
      "Arlington 10.0\n"
     ]
    }
   ],
   "source": [
    "mapped = {}\n",
    "\n",
    "for hood in sortedDic:\n",
    "    for zipCode in neighborhoods:\n",
    "        if str(zipCode) == str(hood):\n",
    "            mapped[neighborhoods.get(zipCode)] = sortedDic.get(hood)        \n",
    "    \n",
    "for amt in mapped:\n",
    "    mapped[str(amt)] = (mapped[str(amt)] / maxCondemned * 10 )\n",
    "    print(amt, mapped[amt])"
   ]
  },
  {
   "cell_type": "markdown",
   "metadata": {},
   "source": [
    "##### To show our data off better, we can use a bar graph to show the comparisons between the neighborhoods."
   ]
  },
  {
   "cell_type": "code",
   "execution_count": 7,
   "metadata": {},
   "outputs": [
    {
     "data": {
      "image/png": "[encoded data removed]",
      "text/plain": [
       "<Figure size 432x288 with 1 Axes>"
      ]
     },
     "metadata": {
      "needs_background": "light"
     },
     "output_type": "display_data"
    }
   ],
   "source": [
    "plt.bar(range(len(mapped)), list(mapped.values()), align='center')\n",
    "plt.xticks(range(len(mapped)), list(mapped.keys()), rotation =90)\n",
    "plt.xlabel(\"Neighborhood\")\n",
    "plt.ylabel(\"Score\")\n",
    "plt.show()"
   ]
  },
  {
   "cell_type": "markdown",
   "metadata": {},
   "source": [
    "##### We create a smaller dictionary to hold the lowest 5 values to make a bar graph showing the neighborhoods with the lowest amount of condemned properties."
   ]
  },
  {
   "cell_type": "code",
   "execution_count": 8,
   "metadata": {},
   "outputs": [
    {
     "data": {
      "image/png": "[encoded data removed]",
      "text/plain": [
       "<Figure size 432x288 with 1 Axes>"
      ]
     },
     "metadata": {
      "needs_background": "light"
     },
     "output_type": "display_data"
    }
   ],
   "source": [
    "graph = {}\n",
    "\n",
    "counter = 0 # only add top 5 winners\n",
    "for atm in mapped:\n",
    "    graph[atm] = mapped.get(atm)\n",
    "    counter += 1\n",
    "    if counter >= 5:\n",
    "        break\n",
    "\n",
    "\n",
    "\n",
    "plt.bar(range(len(graph)), list(graph.values()), align='center')\n",
    "plt.xticks(range(len(graph)), list(graph.keys()), rotation =90)\n",
    "plt.xlabel(\"Neighborhood\")\n",
    "plt.ylabel(\"Score\")\n",
    "plt.show()"
   ]
  },
  {
   "cell_type": "markdown",
   "metadata": {},
   "source": [
    "##### In conclusion, I found that based on condemned properties, Arlington is the worst neighborhood to live. Since my data set only includes places where there are condemned properties, any neighborhood that isnt in my graph is actually better than even the neighborhoods with a low score."
   ]
  }
 ],
 "metadata": {
  "kernelspec": {
   "display_name": "Python 3",
   "language": "python",
   "name": "python3"
  },
  "language_info": {
   "codemirror_mode": {
    "name": "ipython",
    "version": 3
   },
   "file_extension": ".py",
   "mimetype": "text/x-python",
   "name": "python",
   "nbconvert_exporter": "python",
   "pygments_lexer": "ipython3",
   "version": "3.8.3"
  }
 },
 "nbformat": 4,
 "nbformat_minor": 4
}
