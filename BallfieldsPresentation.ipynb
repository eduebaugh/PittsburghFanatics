{
 "cells": [
  {
   "cell_type": "code",
   "execution_count": null,
   "metadata": {},
   "outputs": [],
   "source": [
    "import pandas as pd"
   ]
  },
  {
   "cell_type": "markdown",
   "metadata": {},
   "source": [
    "# Pittsburgh's Ballfields\n",
    " ## For my portion of the project, I decided that for families, they would need a place to spend quality family time at. Baseball parks can provide this for them, whether their kid is on the team or they're looking to have a relaxing day, the ballfields can provide a fun day for all.\n",
    " ### [click here for csv file used](https://data.wprdc.org/datastore/dump/9aa6f92f-aa06-48d2-8303-88b5bc398236)"
   ]
  },
  {
   "cell_type": "code",
   "execution_count": null,
   "metadata": {},
   "outputs": [],
   "source": [
    "ballfields = pd.read_csv(\"ballfieldsData.csv\")\n",
    "ballfields.head()"
   ]
  },
  {
   "cell_type": "code",
   "execution_count": null,
   "metadata": {},
   "outputs": [],
   "source": []
  }
 ],
 "metadata": {
  "kernelspec": {
   "display_name": "Python 3",
   "language": "python",
   "name": "python3"
  },
  "language_info": {
   "codemirror_mode": {
    "name": "ipython",
    "version": 3
   },
   "file_extension": ".py",
   "mimetype": "text/x-python",
   "name": "python",
   "nbconvert_exporter": "python",
   "pygments_lexer": "ipython3",
   "version": "3.8.3"
  }
 },
 "nbformat": 4,
 "nbformat_minor": 4
}
