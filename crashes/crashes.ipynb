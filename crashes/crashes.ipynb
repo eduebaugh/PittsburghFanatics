{
 "cells": [
  {
   "cell_type": "markdown",
   "metadata": {},
   "source": [
    "# Preliminary Analysis\n",
    "\n",
    "https://data.wprdc.org/dataset/allegheny-county-crash-data/resource/980f784b-978b-40c6-b649-f92f90b14dae\n",
    "\n",
    "## How the Data is Used\n",
    "\n",
    "The data will be used to describe what the best neighborhood in pittsburgh is by showing which neighborhood has the least amount of crashes, as well as what were the causes of the crashes.\n",
    "\n",
    "## Metrics\n",
    "\n",
    "* Municipalities with lowest frequency in data sheet\n",
    "* Municipalities with lowest number of drug and alcohol related accidents\n",
    "* Street condition at crash sites"
   ]
  },
  {
   "cell_type": "code",
   "execution_count": null,
   "metadata": {},
   "outputs": [],
   "source": []
  }
 ],
 "metadata": {
  "kernelspec": {
   "display_name": "Python 3",
   "language": "python",
   "name": "python3"
  },
  "language_info": {
   "codemirror_mode": {
    "name": "ipython",
    "version": 3
   },
   "file_extension": ".py",
   "mimetype": "text/x-python",
   "name": "python",
   "nbconvert_exporter": "python",
   "pygments_lexer": "ipython3",
   "version": "3.8.3"
  }
 },
 "nbformat": 4,
 "nbformat_minor": 4
}
